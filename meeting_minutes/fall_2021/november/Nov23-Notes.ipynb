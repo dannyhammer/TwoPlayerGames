{
 "cells": [
  {
   "cell_type": "markdown",
   "id": "9dec313c",
   "metadata": {},
   "source": [
    "# November 23, 2021 TPG Meeting"
   ]
  },
  {
   "cell_type": "markdown",
   "id": "fdd11d8a",
   "metadata": {},
   "source": [
    "---"
   ]
  },
  {
   "cell_type": "markdown",
   "id": "37ead6cc",
   "metadata": {},
   "source": [
    "## Two Player Graph Coloring Game Overview\n",
    "\n",
    "> Big Question: What is the smallest number of colors needed to properly color this graph?"
   ]
  },
  {
   "cell_type": "markdown",
   "id": "7d41cfec",
   "metadata": {},
   "source": [
    "$\\chi(G)$ is the Game Chromatic Number "
   ]
  },
  {
   "cell_type": "markdown",
   "id": "651b53e9",
   "metadata": {},
   "source": [
    "<img src=\"graph.jpg\" alt=\"drawing\" width=\"400\"/>"
   ]
  },
  {
   "cell_type": "markdown",
   "id": "68343882",
   "metadata": {},
   "source": [
    "### [Ordered list / Fit-First]\n",
    "\n",
    "Put vertice in order, [1,2,3,4,5,6]\n",
    "\n",
    "put color in order [A, B, C]"
   ]
  },
  {
   "cell_type": "markdown",
   "id": "8318146e",
   "metadata": {},
   "source": [
    "Have a different Ordered List for each vertex\n",
    "\n",
    "Take into account \n",
    "\n",
    "#### ${1: [A,B,C], 2:[B, C, A], ... , 7: [C, B, A]}$\n",
    "\n"
   ]
  },
  {
   "cell_type": "markdown",
   "id": "6bc68335",
   "metadata": {},
   "source": [
    "---"
   ]
  },
  {
   "cell_type": "markdown",
   "id": "09a11345",
   "metadata": {},
   "source": [
    "#### Viewing the possible set of choices as a dictionary \n",
    "#### to build out something similar to the decision tree\n",
    "```\n",
    "player_options = {\n",
    "    (A, 1): {\n",
    "        7: C,\n",
    "        2: C,\n",
    "        3: [B, A, C],\n",
    "        5: [C,A,B],\n",
    "        \"etc\": \"etc\"\n",
    "    }\n",
    "}\n",
    "```"
   ]
  },
  {
   "cell_type": "markdown",
   "id": "1f86e484",
   "metadata": {},
   "source": [
    "Modeling the decisions with a decision tree but an issue that arises is the complexity / load on the system of the tree. \n",
    "<img src=\"genetic.png\" alt=\"drawing\" width=\"700\"/>"
   ]
  },
  {
   "cell_type": "markdown",
   "id": "9bc3db90",
   "metadata": {},
   "source": [
    "## Tools off the Shelf: deap\n",
    "\n",
    "Use this to help move forward so we can focus on the calculations"
   ]
  },
  {
   "cell_type": "markdown",
   "id": "77b0557e",
   "metadata": {},
   "source": [
    "### Moving forward to JMM\n",
    "\n",
    "We have many things to be proud of from the results and accomplishments. \n",
    "\n",
    "\n",
    "The goal is not to show results, but to show we can't be \"pushed around\", but we want to be strong in how we present the results. Having comfort in knowledge and the context for the given subject matter so that we show a grasp of the material.\n",
    "\n",
    "\n",
    "### Constraint Satisfaction Problems\n",
    "\n",
    "4 by 4 peaceable rooks\n",
    "\n",
    "Variables:\n",
    "- $X_{ij} = { 0, 1}$ (note: ${0, 1}$ is the domain)\n",
    "- $X_{ij}$ = number of rooks on row $i$, column $j$ \n",
    "\n",
    "Goal: Maximize $\\sum_{i=1}^{4} \\sum_{j=1}^{4} x$\n",
    "\n",
    "Let's define \n",
    "\n",
    "- $C_m = \\sum_{i = 1}^{4} x_{im}$ = # of rooks in column $m$\n",
    "- $R_n = \\sum_{j=1}^{4} x_{nj}$ = # of rooks in row $n$\n",
    "\n",
    "Constraints: \n",
    "- $C_m = 1$\n",
    "- $R_n = 1$\n",
    "\n",
    "for each $m, n$\n",
    "\n"
   ]
  },
  {
   "cell_type": "markdown",
   "id": "1b38ae1c",
   "metadata": {},
   "source": [
    "### Applying the Constraint to the GCP\n",
    "\n",
    "<img src=\"graph2.png\" alt=\"drawing\" width=\"400\"/>\n",
    "\n",
    "$X_{i} \\in {R, B}$ for $i \\in {1,2,3}$ \n",
    "\n",
    "Assign all $x_i$ subject to:\n",
    "\n",
    "- $x_1 \\ne x_2$\n",
    "- $x_2 \\ne x_3$"
   ]
  },
  {
   "cell_type": "markdown",
   "id": "ecb0770c",
   "metadata": {},
   "source": [
    "### Backtracking is an example: \n",
    "\n",
    "- [Sudoku algo with backtracking](https://www.youtube.com/watch?v=_vWRZiDUGHU)"
   ]
  },
  {
   "cell_type": "markdown",
   "id": "c893ca6e",
   "metadata": {},
   "source": [
    "### Action items:\n",
    "\n",
    "- Draft up the poster to be ready for the updated/ new information\n",
    "- Want to restore curiousity to the research\n",
    "- Investigate `deap` so that we can use it for future efforts \n",
    "    - Maybe investigate the Toothpick takeway game with `deap`"
   ]
  },
  {
   "cell_type": "code",
   "execution_count": null,
   "id": "e6bf6409",
   "metadata": {},
   "outputs": [],
   "source": []
  }
 ],
 "metadata": {
  "kernelspec": {
   "display_name": "Python 3 (ipykernel)",
   "language": "python",
   "name": "python3"
  },
  "language_info": {
   "codemirror_mode": {
    "name": "ipython",
    "version": 3
   },
   "file_extension": ".py",
   "mimetype": "text/x-python",
   "name": "python",
   "nbconvert_exporter": "python",
   "pygments_lexer": "ipython3",
   "version": "3.8.10"
  }
 },
 "nbformat": 4,
 "nbformat_minor": 5
}
