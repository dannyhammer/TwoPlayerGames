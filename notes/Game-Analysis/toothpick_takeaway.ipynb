{
 "cells": [
  {
   "cell_type": "markdown",
   "metadata": {},
   "source": [
    "# 10-1-2 Toothpick Takeaway"
   ]
  },
  {
   "cell_type": "markdown",
   "metadata": {},
   "source": [
    "## Table of Contents\n",
    "* [The Game Itself](#The-Game-Itself)\n",
    "    * [Rules](#Rules)\n",
    "    * [Examples](#Examples)\n",
    "    * [Manually-Collected Data](#Manually-Collected-Data)\n",
    "* [Game Components](#Game-Components)\n",
    "    * [A Player](#A-Player)\n",
    "    * [Somewhere to Play](#Somewhere-to-Play)\n",
    "    * [Moves](#Moves)\n",
    "    * [Checking Legality](#Checking-Legality)\n",
    "    * [Who Won?](#Who-Won?)\n",
    "    * [Turn to Turn](#Turn-to-Turn)\n",
    "* [Playing the Game](#Playing-the-Game)\n",
    "    * [Simulator](#Simulator)\n",
    "    * [Gathering Data](#Gathering-Data)\n",
    "    * [Trying New Strategies](#Trying-New-Strategies)\n",
    "* [Logical Conclusions](#Logical-Conclusions)\n",
    "    * [Conjectures](#Conjectures)\n",
    "    * [Theorem 1](#Theorem-1)\n",
    "    * [Optimal Strategies](#Optimal-Strategies)\n",
    "    * [Summary](#Summary)"
   ]
  },
  {
   "cell_type": "markdown",
   "metadata": {},
   "source": [
    "## The Game Itself\n",
    "*Toothpick Takeaway* is a simple two-player game involving a number of toothpicks on the table (in our case, 10) and two players alternating picking them up. Each player has the ability to pick up one or two toothpicks on his or her turn. Whoever picks up the last toothpick wins"
   ]
  },
  {
   "cell_type": "markdown",
   "metadata": {},
   "source": [
    "### Rules\n",
    "1. There are 10 toothpicks on a table. \n",
    "2. The two players alternate taking toothpicks off the table. \n",
    "3. At each turn, the player may take either 1 or 2 toothpicks.\n",
    "4. If a player can not make a legal move, that player loses. This includes the situation where the table is left empty by the previous player's move."
   ]
  },
  {
   "cell_type": "markdown",
   "metadata": {},
   "source": [
    "### Examples\n",
    "Below are a few examples demonstrating gameplay with basic strategies. Then `Turn` column represents what turn of the game it is, and the `Player` columns indicate how many toothpicks each player picked up on each turn"
   ]
  },
  {
   "cell_type": "markdown",
   "metadata": {},
   "source": [
    "<h4><center>No apparent strategy</center></h4>\n",
    "\n",
    "| Turn | Player 1 | Player 2 | Total |\n",
    "|:----:|:--------:|:--------:|:------|\n",
    "|   0  |     2    |          |   8   |\n",
    "|   1  |          |     1    |   7   |\n",
    "|   2  |     2    |          |   5   |\n",
    "|   3  |          |     1    |   4   |\n",
    "|   4  |     1    |          |   3   |\n",
    "|   5  |          |     1    |   2   |\n",
    "|   6  |     2    |          |   0   |\n",
    "<h4><center>Player 1 wins</center></h4>"
   ]
  },
  {
   "cell_type": "markdown",
   "metadata": {},
   "source": [
    "<h4><center>Player 1 always takes 2</center></h4>\n",
    "\n",
    "| Turn | Player 1 | Player 2 | Total |\n",
    "|:----:|:--------:|:--------:|:------|\n",
    "|   0  |     2    |          |   8   |\n",
    "|   1  |          |     1    |   7   |\n",
    "|   2  |     2    |          |   5   |\n",
    "|   3  |          |     1    |   4   |\n",
    "|   4  |     2    |          |   2   |\n",
    "|   5  |          |     1    |   2   |\n",
    "<h4><center>Player 2 wins</center></h4>"
   ]
  },
  {
   "cell_type": "markdown",
   "metadata": {},
   "source": [
    "<h4><center>Player 1 always takes 1</center></h4>\n",
    "\n",
    "| Turn | Player 1 | Player 2 | Total |\n",
    "|:----:|:--------:|:--------:|:------|\n",
    "|   0  |     1    |          |   9   |\n",
    "|   1  |          |     2    |   7   |\n",
    "|   2  |     1    |          |   6   |\n",
    "|   3  |          |     1    |   5   |\n",
    "|   4  |     1    |          |   4   |\n",
    "|   5  |          |     1    |   3   |\n",
    "|   6  |     1    |          |   2   |\n",
    "|   7  |          |     2    |   0   |\n",
    "<h4><center>Player 2 wins</center></h4>"
   ]
  },
  {
   "cell_type": "markdown",
   "metadata": {},
   "source": [
    "### Manually-Collected Data\n",
    "\n",
    "From our exercises playing the game, we gather that with our manually collected data, player 1 seemed to have a higher chance to win with 10 pieces."
   ]
  },
  {
   "cell_type": "code",
   "execution_count": 3,
   "metadata": {},
   "outputs": [
    {
     "data": {
      "text/html": [
       "<div>\n",
       "<style scoped>\n",
       "    .dataframe tbody tr th:only-of-type {\n",
       "        vertical-align: middle;\n",
       "    }\n",
       "\n",
       "    .dataframe tbody tr th {\n",
       "        vertical-align: top;\n",
       "    }\n",
       "\n",
       "    .dataframe thead th {\n",
       "        text-align: right;\n",
       "    }\n",
       "</style>\n",
       "<table border=\"1\" class=\"dataframe\">\n",
       "  <thead>\n",
       "    <tr style=\"text-align: right;\">\n",
       "      <th></th>\n",
       "      <th>Game</th>\n",
       "      <th>D</th>\n",
       "      <th>A</th>\n",
       "      <th>Total(D,A)</th>\n",
       "      <th>Start</th>\n",
       "    </tr>\n",
       "  </thead>\n",
       "  <tbody>\n",
       "    <tr>\n",
       "      <th>0</th>\n",
       "      <td>1</td>\n",
       "      <td>[1,1,1,2]</td>\n",
       "      <td>[2,2,1,0]</td>\n",
       "      <td>[5,5]</td>\n",
       "      <td>D</td>\n",
       "    </tr>\n",
       "    <tr>\n",
       "      <th>1</th>\n",
       "      <td>2</td>\n",
       "      <td>[2,2,0]</td>\n",
       "      <td>[2,2,2]</td>\n",
       "      <td>[4,6]</td>\n",
       "      <td>A</td>\n",
       "    </tr>\n",
       "    <tr>\n",
       "      <th>2</th>\n",
       "      <td>3</td>\n",
       "      <td>[2,2,1,2]</td>\n",
       "      <td>[1,1,1,0]</td>\n",
       "      <td>[7,3]</td>\n",
       "      <td>D</td>\n",
       "    </tr>\n",
       "    <tr>\n",
       "      <th>3</th>\n",
       "      <td>4</td>\n",
       "      <td>[1,2,1,0]</td>\n",
       "      <td>[1,2,1,2]</td>\n",
       "      <td>[4,6]</td>\n",
       "      <td>A</td>\n",
       "    </tr>\n",
       "    <tr>\n",
       "      <th>4</th>\n",
       "      <td>5</td>\n",
       "      <td>[1,1,2,1]</td>\n",
       "      <td>[1,1,2,0]</td>\n",
       "      <td>[6,4]</td>\n",
       "      <td>D</td>\n",
       "    </tr>\n",
       "  </tbody>\n",
       "</table>\n",
       "</div>"
      ],
      "text/plain": [
       "   Game          D          A Total(D,A) Start\n",
       "0     1  [1,1,1,2]  [2,2,1,0]      [5,5]     D\n",
       "1     2    [2,2,0]    [2,2,2]      [4,6]     A\n",
       "2     3  [2,2,1,2]  [1,1,1,0]      [7,3]     D\n",
       "3     4  [1,2,1,0]  [1,2,1,2]      [4,6]     A\n",
       "4     5  [1,1,2,1]  [1,1,2,0]      [6,4]     D"
      ]
     },
     "execution_count": 3,
     "metadata": {},
     "output_type": "execute_result"
    }
   ],
   "source": [
    "import pandas as pd\n",
    "game_df = pd.read_csv(\"toothpick.csv\")\n",
    "game_df"
   ]
  },
  {
   "cell_type": "markdown",
   "metadata": {},
   "source": [
    "With the manually collected data we found that Player 1 did in fact have a better chance to win, especially with 10 cards.  While playing the game we realized that we know the winner when there are 3 pieces left on the table.  Since we know the outcome at 3 pieces, how can we manipulate the number of pieces so that our opponent always has to pick from a stack of 3?  We know that from when there are 6 pieces left in the stack.  If there are 6 left on the stack, then the player who has to draw will lose when plyaing against our strategy.  the next question is how do we get to 6 cards every time we play the game.  It is simple, if you are first, take 1 card(when 10 on table) this causes the amount of cards left to easily taken down to 6. We then posed the questoin of how far does this scale up with the amount of pieces available:\n",
    "\n",
    "$N$ = number of pieces at the start.\n",
    "* if $N \\mod 3 = 0$ Player 2 is most likely to win\n",
    "* if $N \\mod 3 = 1$ Player 1 is most likely to win using the strategy above\n",
    "* if $N \\mod 3 = 2$ Player 1 is most likely to win, except they will take 2 pieces at the start"
   ]
  },
  {
   "cell_type": "markdown",
   "metadata": {},
   "source": [
    "## Game Components\n",
    "**Definition:** A *game* consists of the following:\n",
    "1. A set $P$ of players.\n",
    "2. A board $S$, which consists of all states of the game.\n",
    "3. A set $M$ of moves.\n",
    "4. A *legality function* whose domain is S x M: it takes the current state of the  and whose outputs are \"legal\" or \"illegal\" (or \"yes\" and \"no\", etc.)\n",
    "5. A *winning function* that determines whether or not the current player has won.\n",
    "6. An *update function* that takes three inputs:\n",
    "            The Player whose turn it is\n",
    "            The state of the game\n",
    "            The player's move\n",
    "        and returns:\n",
    "            The Player whose turn it is\n",
    "            The new state of the game\n"
   ]
  },
  {
   "cell_type": "markdown",
   "metadata": {},
   "source": [
    "### A Player\n",
    "A `Player` needs to be able to be able to play a move"
   ]
  },
  {
   "cell_type": "code",
   "execution_count": 22,
   "metadata": {},
   "outputs": [],
   "source": [
    "class Player:\n",
    "    def __init__(self):\n",
    "        pass\n",
    "    \n",
    "    def move(the_board):\n",
    "        pass"
   ]
  },
  {
   "cell_type": "markdown",
   "metadata": {},
   "source": [
    "### Somewhere to Play\n",
    "a"
   ]
  },
  {
   "cell_type": "code",
   "execution_count": 23,
   "metadata": {},
   "outputs": [],
   "source": [
    "class Board:\n",
    "    def __init__(self):\n",
    "        self.move_set = []\n",
    "        self.state = None\n",
    "\n",
    "    def update(self):\n",
    "        pass"
   ]
  },
  {
   "cell_type": "markdown",
   "metadata": {},
   "source": [
    "### Moves\n",
    "a"
   ]
  },
  {
   "cell_type": "markdown",
   "metadata": {},
   "source": [
    "### Checking Legality\n",
    "a"
   ]
  },
  {
   "cell_type": "code",
   "execution_count": 24,
   "metadata": {},
   "outputs": [],
   "source": [
    "def is_legal(state, move):\n",
    "    pass"
   ]
  },
  {
   "cell_type": "markdown",
   "metadata": {},
   "source": [
    "### Who Won?\n",
    "a"
   ]
  },
  {
   "cell_type": "code",
   "execution_count": 25,
   "metadata": {},
   "outputs": [],
   "source": [
    "def is_winning(state):\n",
    "    pass"
   ]
  },
  {
   "cell_type": "markdown",
   "metadata": {},
   "source": [
    "### Turn to Turn\n",
    "a"
   ]
  },
  {
   "cell_type": "markdown",
   "metadata": {},
   "source": [
    "## Playing the Game\n",
    "Now that we have the core components of the game, let's put it all together and actually play!"
   ]
  },
  {
   "cell_type": "markdown",
   "metadata": {},
   "source": [
    "### Simulator\n",
    "a"
   ]
  },
  {
   "cell_type": "code",
   "execution_count": 26,
   "metadata": {},
   "outputs": [],
   "source": [
    "def play_game(player_set, move_set, state_set, is_legal, is_winning, update_function):\n",
    "    \"\"\"\n",
    "    returns winning_player -- the player who has won the game\n",
    "    \"\"\"\n",
    "    game_over = False\n",
    "    current_player = player_set[0] #Assume the first player goes first. \n",
    "\n",
    "    while(not(game_over)):\n",
    "        player_move = current_player.move(state) #ask for the player's move; this can be automated or human-in-the-loop\n",
    "        if is_legal(player_move): #check to see if the move is legal\n",
    "            next_player, new_state = update_function(player, move, state)\n",
    "            if is_winning(new_state): #check to see if the player won\n",
    "                winning_player = current_player\n",
    "                return winning_player\n",
    "            else: #if no one won, update turn and board\n",
    "                current_player = next_player\n",
    "                state = new_state "
   ]
  },
  {
   "cell_type": "markdown",
   "metadata": {},
   "source": [
    "### Gathering Data\n",
    "To better help visualize the data, we have constructed a function that displays all possible move scenarios."
   ]
  },
  {
   "cell_type": "code",
   "execution_count": 2,
   "metadata": {},
   "outputs": [],
   "source": [
    "def display_turn_tree(cards_left, player, cards_taken, turn):\n",
    "    \"\"\"\n",
    "    Displays a tree of all possible turns for Toothpick Takeaway\n",
    "\n",
    "    Args:\n",
    "        cards_left  (int) : The number of cards left on the table AFTER the turn\n",
    "        player:     (int) : The player who just picked up cards\n",
    "        cards_taken (int) : How many cards the player picked up\n",
    "        turn:       (int) : Which turn of the match it is\n",
    "\n",
    "    Returns:\n",
    "        N/A\n",
    "    \"\"\"\n",
    "\n",
    "    # Indent the line relative to what turn of the match it is\n",
    "    for _ in range(turn):\n",
    "        print(end=\"    \")\n",
    "\n",
    "    # Print out the formatted string of the player and game state\n",
    "    print(\"P{}-{}: ({})\".format(player, cards_taken, cards_left))\n",
    "\n",
    "    # If no more cards are left, return\n",
    "    if cards_left == 0:\n",
    "        return\n",
    "\n",
    "    # Else, increase the turn counter and change the player\n",
    "    turn += 1\n",
    "    next_player = ((player) % 2) + 1\n",
    "\n",
    "    # Recurse if player takes 1 card\n",
    "    display_turn_tree(cards_left - 1, next_player, 1, turn)\n",
    "    # Recurse if player takes 2 cards (only possible if there are at least 2 cards left)\n",
    "    if cards_left > 1:\n",
    "        display_turn_tree(cards_left - 2, next_player, 2, turn)"
   ]
  },
  {
   "cell_type": "code",
   "execution_count": 2,
   "metadata": {},
   "outputs": [
    {
     "name": "stdout",
     "output_type": "stream",
     "text": [
      "P1-1: (4)\n",
      "    P2-1: (3)\n",
      "        P1-1: (2)\n",
      "            P2-1: (1)\n",
      "                P1-1: (0)\n",
      "            P2-2: (0)\n",
      "        P1-2: (1)\n",
      "            P2-1: (0)\n",
      "    P2-2: (2)\n",
      "        P1-1: (1)\n",
      "            P2-1: (0)\n",
      "        P1-2: (0)\n"
     ]
    }
   ],
   "source": [
    "# Example, playing with 5 cards with Player 1\n",
    "# removing 1 card on his/her first turn\n",
    "\n",
    "# Format: P[player]-[cards taken]: (cards left)\n",
    "display_turn_tree(4, 1, 1, 0)"
   ]
  },
  {
   "cell_type": "markdown",
   "metadata": {},
   "source": [
    "### Trying New Strategies\n",
    "a"
   ]
  },
  {
   "cell_type": "markdown",
   "metadata": {},
   "source": [
    "## Logical Conclusions\n",
    "Working backwards from the win condition, some conclusions become evidently clear."
   ]
  },
  {
   "cell_type": "markdown",
   "metadata": {},
   "source": [
    "### Conjectures\n",
    "Let $N$ denote the number of toothpicks left on the table, $P_1$ be the player drawing toothpicks on this turn, and $P_2$ be the player waiting to draw, and $P_x = D$ be the number of toothpicks that $P_x$ draws on his/her turn. Assume all players are playing optimally.\n",
    "\n",
    "1. If $N = 1$: $P_1 = 1$, so $P_1$ wins. <br>\n",
    "2. If $N = 2$: $P_1 = 2$, so $P_1$ wins. <br>\n",
    "3. If $N = 3$: $P_1 = 1, 2$. Then $N = 1, 2$, so $P_2$ will win. <br>\n",
    "4. If $N = 4$: $P_1 = 1$. Then $N = 3$ and $P_1$ will win by statement #3. <br>\n",
    "5. If $N = 5$: $P_1 = 2$. Then $N = 3$ and $P_1$ will win by statement #3. <br>\n",
    "6. If $N = 6$: $P_1 = 1, 2$. Then $N=4,5$. In either case, $P_2$ wins by statements #4 & #5. <br>\n",
    "7. If $N = 7$: $P_1 = 1$. Then $N = 6$ and $P_1$ will win by statement #6. <br>\n",
    "8. If $N = 8$: $P_1 = 2$. Then $N = 6$ and $P_1$ will win by statement #6. <br>\n",
    "9. If $N = 9$: $P_1 = 1, 2$. Then $N=7,8$. In either case, $P_2$ wins by statements #7 & #8. <br>\n",
    "10. If $N = 10$: $P_1 = 1$. Then $N = 9$ and $P_1$ will win by statement #9. <br>\n",
    "11. If $N = 11$: $P_1 = 2$. Then $N = 9$ and $P_1$ will win by statement #9. <br>\n",
    "12. If $N = 12$: $P_1 = 1, 2$. Then $N=10,11$. In either case, $P_2$ wins by statements #10 & #11. <br>\n",
    "\n",
    "There appears to be a clear pattern. If $N \\mod 3 = 0$, $P_2$ will win. If $N \\mod 3 = 1, 2$, $P_1$ will win. Let's attempt to prove this conjeture."
   ]
  },
  {
   "cell_type": "markdown",
   "metadata": {},
   "source": [
    "### Theorem 1\n",
    "#### $P_1$  will win $\\iff N \\mod 3 \\ne 0$ <br>\n",
    "\n",
    "_Proof_: Let $N$ be the number of toothpicks left on the table. <br>\n",
    "Note that $N \\mod 3 = 0$ is equivalent to $N = 3k$ for some $k \\in \\mathbb{Z}$.\n",
    "\n",
    "$\\rightarrow$ Assume $P_1$ will win if $N = 3k$. <br>\n",
    "Let $k = 1$, so $N = 3(1) = 3$. We know that if $N = 3$, $P_2$ will win, giving us a contradiction. <br>\n",
    "So we know that $P_1$ will not win if $N = 3k$.\n",
    "\n",
    "$\\leftarrow$ Assume if $N = 3k$ then $P_1$ will win. <br>\n",
    "We know that $P_1$ will win if $N = 1$ or $N = 2$ and $P_1$ will not win if $N = 3$. <br>\n",
    "So $P_1$ will win if $3k = 1$ or $3k = 2$ <br>\n",
    "Since $k \\in \\mathbb{Z}$, this gives a contradiction.\n",
    "\n",
    "$\\therefore P_1$ will win $\\iff N \\mod 3 \\ne 0$. $\\square$"
   ]
  },
  {
   "cell_type": "markdown",
   "metadata": {},
   "source": [
    "### Theorem 1\n",
    "#### $P_1$  will win $\\iff N \\mod 3 \\ne 0$ <br>\n",
    "\n",
    "\n",
    "_Proof_: Let $N$ be the number of toothpicks left on the table. <br>\n",
    "\n",
    "Base Cases: $N = 1, 2, 3$ <br>\n",
    "1. $N = 0$: So $N \\mod 3 = 0$. If $P_1$ draws 1,  $N = 2$ and $P_2$ will win. If $P_1$ draws 2,  $N = 1$ and $P_2$ will win. <br>\n",
    "2. $N = 1$: So $N \\mod 3 = 1$. $P_1$ draws 1, so $P_1$ wins. <br>\n",
    "3. $N = 2$: So $N \\mod 3 = 2$. $P_1$ draws 2, so $P_1$ wins. <br>\n",
    "\n",
    "Inductive Hypothesis: Assume $P_1$ will win if $K \\mod 3 \\ne 0$ for some $K \\in \\mathbb{Z}^{+}$ <br>\n",
    "1. Consider $K+1$. So $K \\mod 3 = 1$."
   ]
  },
  {
   "cell_type": "markdown",
   "metadata": {},
   "source": [
    "### Optimal Strategies\n",
    "Player 1's primary goal should be to force the game into a state where the number of toothpicks left on the table is a multiple of 3 _and_ it is Player 2's turn. We know this is a win condition for Player 1 by Theorem 1. Once this criteria is met, Player 1 will want to do the opposite of whatever Player 2 does. For instance, if the number of toothpicks on the is a multiple of 3 and Player 2 draws a single toothpick, Player 1 will want to draw two toothpicks, causing the number of toothpicks on the table to remain a multiple of 3 while on Player 2's turn. Essentially, Player 1 wants each game cycle (that is, both players take a turn) to decrease the number of toothpicks on the table by 3."
   ]
  },
  {
   "cell_type": "markdown",
   "metadata": {},
   "source": [
    "### Summary\n",
    "a"
   ]
  }
 ],
 "metadata": {
  "kernelspec": {
   "display_name": "Python 3",
   "language": "python",
   "name": "python3"
  },
  "language_info": {
   "codemirror_mode": {
    "name": "ipython",
    "version": 3
   },
   "file_extension": ".py",
   "mimetype": "text/x-python",
   "name": "python",
   "nbconvert_exporter": "python",
   "pygments_lexer": "ipython3",
   "version": "3.8.5"
  }
 },
 "nbformat": 4,
 "nbformat_minor": 4
}
