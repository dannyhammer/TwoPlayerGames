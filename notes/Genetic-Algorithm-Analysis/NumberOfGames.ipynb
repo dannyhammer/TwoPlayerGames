{
 "cells": [
  {
   "cell_type": "markdown",
   "id": "robust-seller",
   "metadata": {},
   "source": [
    "# How Many Games Does It Take?"
   ]
  },
  {
   "cell_type": "markdown",
   "id": "statutory-soviet",
   "metadata": {},
   "source": [
    "Investigating the effect that the number of games per iteration has on population fitness."
   ]
  },
  {
   "cell_type": "markdown",
   "id": "funded-keeping",
   "metadata": {},
   "source": [
    "## Hypothesis\n",
    "\n",
    "We know that increasing the number of games each player must play will give each player a chance to compete against a wider subset of strategies.\n",
    "\n",
    "So let us hypothesize that increasing the number of games will give us more consistent fitness results.\n",
    "\n",
    "## What we will be testing\n",
    "\n",
    "Game: We will run our tests using Competitive Graph Coloring and our 14-node graph from a previous Notebook.\n",
    "\n",
    "Parameters:\n",
    "* Our fitness threshold will start at 0.5 and will not increase for the duration of our tests\n",
    "* The population size will remain at 100.\n",
    "* The number of iterations will remain at 10.\n",
    "* Mutation rate will remain at 0.025 for all tests.\n",
    "* Our control group will require at minimum 10 games to be played.\n",
    "* Our bounds will be fixed at 3. We know this graph has a known game chromatic color of 4, and that it is *possible* to win with 3 colors.\n",
    "\n",
    "So, the *only* parameter that will be tested is the minimum number of games played."
   ]
  },
  {
   "cell_type": "markdown",
   "id": "respected-encoding",
   "metadata": {},
   "source": [
    "## Setup"
   ]
  },
  {
   "cell_type": "markdown",
   "id": "partial-apache",
   "metadata": {},
   "source": [
    "We need to import the necessary files and create a graph and ruleset."
   ]
  },
  {
   "cell_type": "code",
   "execution_count": 1,
   "id": "split-collect",
   "metadata": {},
   "outputs": [],
   "source": [
    "import sys\n",
    "sys.path.append(\"../../simple_games\")\n",
    "\n",
    "from classes.genetic_algorithm import GeneticAlgorithm\n",
    "\n",
    "# Import the rulesets and strategy\n",
    "from graph_coloring.classes.gc_ruleset import GCRuleset\n",
    "from graph_coloring.classes.gc_random_init_strategy import GCRandomInitStrategy"
   ]
  },
  {
   "cell_type": "code",
   "execution_count": 2,
   "id": "hybrid-links",
   "metadata": {},
   "outputs": [],
   "source": [
    "# Create a graph to play on\n",
    "initial_state = [\n",
    "    {\"color\": 0, \"adj\": [5]},\n",
    "    {\"color\": 0, \"adj\": [6]},\n",
    "    {\"color\": 0, \"adj\": [7]},\n",
    "    {\"color\": 0, \"adj\": [8]},\n",
    "    {\"color\": 0, \"adj\": [5]},\n",
    "    {\"color\": 0, \"adj\": [0,4,6,10]},\n",
    "    {\"color\": 0, \"adj\": [1,5,7,11]},\n",
    "    {\"color\": 0, \"adj\": [2,6,8,12]},\n",
    "    {\"color\": 0, \"adj\": [3,7,9,13]},\n",
    "    {\"color\": 0, \"adj\": [8]},\n",
    "    {\"color\": 0, \"adj\": [5]},\n",
    "    {\"color\": 0, \"adj\": [6]},\n",
    "    {\"color\": 0, \"adj\": [7]},\n",
    "    {\"color\": 0, \"adj\": [8]},\n",
    "]"
   ]
  },
  {
   "cell_type": "code",
   "execution_count": 3,
   "id": "changed-detroit",
   "metadata": {},
   "outputs": [],
   "source": [
    "# Ruleset of the game being played on\n",
    "ruleset = GCRuleset(\"Graph Coloring Ruleset\", initial_state, bounds = 3)"
   ]
  },
  {
   "cell_type": "markdown",
   "id": "stuck-membrane",
   "metadata": {},
   "source": [
    "Let's also define some functions to allow us run a test and see information about the player populations."
   ]
  },
  {
   "cell_type": "code",
   "execution_count": 4,
   "id": "closing-shift",
   "metadata": {},
   "outputs": [],
   "source": [
    "def print_pop(pop, fitness = 0.5):\n",
    "    \"\"\"\n",
    "    Displays individuals in the population whose fitness is at or above the provided threshold.\n",
    "    \n",
    "    Args:\n",
    "        pop : Population to display\n",
    "        fitness (Optional) : Minimum fitness threshold\n",
    "    \"\"\"\n",
    "    for p in pop:\n",
    "        if p.fitness() >= fitness:\n",
    "            print(p)\n",
    "\n",
    "            \n",
    "            \n",
    "def percent_good_players(pop, fitness = 0.5):\n",
    "    \"\"\"\n",
    "    Prints the percentage of a population that is above a specified fitness.\n",
    "    \n",
    "    Args:\n",
    "        pop : Population to analyze\n",
    "        fitness (Optional) : Minimum fitness threshold\n",
    "    \"\"\"\n",
    "    good_pop = [p for p in pop if p.fitness() >= fitness]\n",
    "    percent = len(good_pop) / len(pop)\n",
    "    print(\"{:.2f}% above fitness {}\".format(percent * 100, fitness))\n",
    "    \n",
    "    \n",
    "    \n",
    "def fitness_thresholds(p1_pop, p2_pop):\n",
    "    \"\"\"\n",
    "    Displays the fitness thresholds for each population.\n",
    "    \n",
    "    Args:\n",
    "        p1_pop : Player 1 population\n",
    "        p2_pop : Player 2 population\n",
    "    \"\"\"\n",
    "    print(\"Player 1 Fitness Thresholds:\")\n",
    "    for i in range(0, 11, 1):\n",
    "        percent_good_players(p1_pop, fitness=i/10)\n",
    "\n",
    "    print(\"\\nPlayer 2 Fitness Thresholds:\")\n",
    "    for i in range(0, 11, 1):\n",
    "        percent_good_players(p2_pop, fitness=i/10)\n",
    "\n",
    "        \n",
    "        \n",
    "def run_test(num_games):\n",
    "    \"\"\"\n",
    "    Runs a series of genetic algorithms, averaging the results.\n",
    "    \n",
    "    Args:\n",
    "        num_games : Minimum number of games each player must play per iteration.\n",
    "    \"\"\"\n",
    "    total_p1_pop = []\n",
    "    total_p2_pop = []\n",
    "    \n",
    "    # Run 10 tests\n",
    "    for i in range(10):\n",
    "        # Create a new Evolution instance with the example strategy\n",
    "        test_group = GeneticAlgorithm(\n",
    "            ruleset,\n",
    "            # Random-on-initialization strategy for generating populations of random players\n",
    "            random_on_init_strat = GCRandomInitStrategy,\n",
    "            # Data to be used by the above strategy\n",
    "            strat_data = {\"vertices\": range(len(ruleset.initial_state)), \"colors\": range(1, ruleset.bounds + 1)},\n",
    "            # Size of the populations\n",
    "            pop_size = 100,\n",
    "            # Number of generations to iterate through\n",
    "            iterations = 10,\n",
    "            # Minimum number of games each player must play during a generation\n",
    "            num_games = num_games,\n",
    "            # Starting fitness threshold\n",
    "            fitness = 0.5,\n",
    "            # Maximum fitness threshold; be careful of setting this too close to 1.0\n",
    "            max_fitness = 0.5,\n",
    "            # How much the fitness threshold should increment after each iteration\n",
    "            fitness_increment = 0.0,\n",
    "            # Chance of a mutation to occur during player reproduction\n",
    "            mutation_rate = 0.025\n",
    "        )\n",
    "    \n",
    "        # Run the algorithm\n",
    "        p1_pop, p2_pop = test_group.evolve()\n",
    "        \n",
    "        # Append to populations\n",
    "        total_p1_pop.extend(p1_pop)\n",
    "        total_p2_pop.extend(p2_pop)\n",
    "    \n",
    "    fitness_thresholds(total_p1_pop, total_p2_pop)"
   ]
  },
  {
   "cell_type": "markdown",
   "id": "complex-village",
   "metadata": {},
   "source": [
    "## Control Group"
   ]
  },
  {
   "cell_type": "markdown",
   "id": "respective-monroe",
   "metadata": {},
   "source": [
    "Our control group will require each player to play at least 10 games per iteration. As stated earlier, fitness, population size, and number of iterations will remain fixed."
   ]
  },
  {
   "cell_type": "code",
   "execution_count": 5,
   "id": "aware-testing",
   "metadata": {},
   "outputs": [
    {
     "name": "stdout",
     "output_type": "stream",
     "text": [
      "Player 1 Fitness Thresholds:\n",
      "100.00% above fitness 0.0\n",
      "95.70% above fitness 0.1\n",
      "95.70% above fitness 0.2\n",
      "95.70% above fitness 0.3\n",
      "95.60% above fitness 0.4\n",
      "95.10% above fitness 0.5\n",
      "86.60% above fitness 0.6\n",
      "76.00% above fitness 0.7\n",
      "61.90% above fitness 0.8\n",
      "48.40% above fitness 0.9\n",
      "29.80% above fitness 1.0\n",
      "\n",
      "Player 2 Fitness Thresholds:\n",
      "100.00% above fitness 0.0\n",
      "7.20% above fitness 0.1\n",
      "7.20% above fitness 0.2\n",
      "7.20% above fitness 0.3\n",
      "7.20% above fitness 0.4\n",
      "7.20% above fitness 0.5\n",
      "1.60% above fitness 0.6\n",
      "0.20% above fitness 0.7\n",
      "0.10% above fitness 0.8\n",
      "0.00% above fitness 0.9\n",
      "0.00% above fitness 1.0\n"
     ]
    }
   ],
   "source": [
    "run_test(num_games=10)"
   ]
  },
  {
   "cell_type": "markdown",
   "id": "higher-tribe",
   "metadata": {},
   "source": [
    "The Player 1 population is doing very well. The Player 2 population is not doing nearly as well.\n",
    "* Majority of P1 (61.9%) was at or above 0.8, 29.8% were perfect players.\n",
    "* Only 0.1% of P2 was at or above 0.0, 7.2% were below 0.5."
   ]
  },
  {
   "cell_type": "markdown",
   "id": "palestinian-projector",
   "metadata": {},
   "source": [
    "## Test 1: Decreasing Number of Games\n",
    "\n",
    "Here we will examine the effects of decreasing the number of games. Let's do a simple test of halving them to 5."
   ]
  },
  {
   "cell_type": "code",
   "execution_count": 6,
   "id": "agricultural-bridges",
   "metadata": {},
   "outputs": [
    {
     "name": "stdout",
     "output_type": "stream",
     "text": [
      "Player 1 Fitness Thresholds:\n",
      "100.00% above fitness 0.0\n",
      "94.90% above fitness 0.1\n",
      "94.90% above fitness 0.2\n",
      "94.90% above fitness 0.3\n",
      "94.90% above fitness 0.4\n",
      "93.80% above fitness 0.5\n",
      "82.10% above fitness 0.6\n",
      "68.70% above fitness 0.7\n",
      "55.30% above fitness 0.8\n",
      "40.90% above fitness 0.9\n",
      "28.40% above fitness 1.0\n",
      "\n",
      "Player 2 Fitness Thresholds:\n",
      "100.00% above fitness 0.0\n",
      "9.40% above fitness 0.1\n",
      "9.40% above fitness 0.2\n",
      "9.40% above fitness 0.3\n",
      "9.40% above fitness 0.4\n",
      "9.40% above fitness 0.5\n",
      "1.70% above fitness 0.6\n",
      "0.70% above fitness 0.7\n",
      "0.10% above fitness 0.8\n",
      "0.00% above fitness 0.9\n",
      "0.00% above fitness 1.0\n"
     ]
    }
   ],
   "source": [
    "run_test(num_games=5)"
   ]
  },
  {
   "cell_type": "markdown",
   "id": "hawaiian-chart",
   "metadata": {
    "tags": []
   },
   "source": [
    "There seems to be a slight decline in the performance of the Player 1 population and a slight improvement for Player 2.\n",
    "* Majority of P1 (55.3%) were at or above 0.8. 28.4% were perfect players.\n",
    "* 9.4% of P2 was above 0.5, but only %0.1 was above 0.8."
   ]
  },
  {
   "cell_type": "markdown",
   "id": "inner-boutique",
   "metadata": {},
   "source": [
    "## Test 2: Increasing Number of Games\n",
    "\n",
    "Here we will examine the effects of increasing the number of games. Let's do a simple test of doubling them to 20."
   ]
  },
  {
   "cell_type": "code",
   "execution_count": 7,
   "id": "selected-thousand",
   "metadata": {},
   "outputs": [
    {
     "name": "stdout",
     "output_type": "stream",
     "text": [
      "Player 1 Fitness Thresholds:\n",
      "100.00% above fitness 0.0\n",
      "93.50% above fitness 0.1\n",
      "93.50% above fitness 0.2\n",
      "93.50% above fitness 0.3\n",
      "93.30% above fitness 0.4\n",
      "91.30% above fitness 0.5\n",
      "81.10% above fitness 0.6\n",
      "65.50% above fitness 0.7\n",
      "49.10% above fitness 0.8\n",
      "35.90% above fitness 0.9\n",
      "19.20% above fitness 1.0\n",
      "\n",
      "Player 2 Fitness Thresholds:\n",
      "100.00% above fitness 0.0\n",
      "6.90% above fitness 0.1\n",
      "6.90% above fitness 0.2\n",
      "6.90% above fitness 0.3\n",
      "6.90% above fitness 0.4\n",
      "6.90% above fitness 0.5\n",
      "0.40% above fitness 0.6\n",
      "0.00% above fitness 0.7\n",
      "0.00% above fitness 0.8\n",
      "0.00% above fitness 0.9\n",
      "0.00% above fitness 1.0\n"
     ]
    }
   ],
   "source": [
    "run_test(num_games=20)"
   ]
  },
  {
   "cell_type": "markdown",
   "id": "unexpected-acrylic",
   "metadata": {},
   "source": [
    "We see declining performance in the Player 1 population across the board, and likewise for Player 2.\n",
    "* 19.2% of P1 were perfect players, with nearly the majority (49.1%) being above 0.8.\n",
    "* 6.9% of P2 were above 0.5, but only 0.4% were above 0.6."
   ]
  },
  {
   "cell_type": "markdown",
   "id": "square-humidity",
   "metadata": {},
   "source": [
    "## Test 4: Increasing Number of Games Again\n",
    "\n",
    "Here we will examine the effects of increasing the number of games. Let's do a more significant 50 games."
   ]
  },
  {
   "cell_type": "code",
   "execution_count": 8,
   "id": "instant-intermediate",
   "metadata": {},
   "outputs": [
    {
     "name": "stdout",
     "output_type": "stream",
     "text": [
      "Player 1 Fitness Thresholds:\n",
      "100.00% above fitness 0.0\n",
      "96.10% above fitness 0.1\n",
      "96.10% above fitness 0.2\n",
      "96.10% above fitness 0.3\n",
      "96.10% above fitness 0.4\n",
      "94.30% above fitness 0.5\n",
      "82.80% above fitness 0.6\n",
      "68.00% above fitness 0.7\n",
      "51.60% above fitness 0.8\n",
      "31.10% above fitness 0.9\n",
      "10.50% above fitness 1.0\n",
      "\n",
      "Player 2 Fitness Thresholds:\n",
      "100.00% above fitness 0.0\n",
      "17.90% above fitness 0.1\n",
      "17.90% above fitness 0.2\n",
      "17.90% above fitness 0.3\n",
      "17.90% above fitness 0.4\n",
      "17.90% above fitness 0.5\n",
      "0.00% above fitness 0.6\n",
      "0.00% above fitness 0.7\n",
      "0.00% above fitness 0.8\n",
      "0.00% above fitness 0.9\n",
      "0.00% above fitness 1.0\n"
     ]
    }
   ],
   "source": [
    "run_test(num_games=50)"
   ]
  },
  {
   "cell_type": "markdown",
   "id": "governing-atlas",
   "metadata": {},
   "source": [
    "Both populations had a higher number of lower-fitness players and a lower number of higher-fitness players.\n",
    "* Majority of P1 (51.6%) were at or above 0.8. 10.5% were perfect players.\n",
    "* 17.9% of P2 were at or above 0.5. None were higher."
   ]
  },
  {
   "cell_type": "markdown",
   "id": "statewide-opinion",
   "metadata": {},
   "source": [
    "## Test 4: Increasing Number of Games Incredibly\n",
    "\n",
    "Now let's see what an order of magnitude increase yields. We will test with 100 games."
   ]
  },
  {
   "cell_type": "code",
   "execution_count": 9,
   "id": "formed-november",
   "metadata": {},
   "outputs": [
    {
     "name": "stdout",
     "output_type": "stream",
     "text": [
      "Player 1 Fitness Thresholds:\n",
      "100.00% above fitness 0.0\n",
      "96.50% above fitness 0.1\n",
      "96.50% above fitness 0.2\n",
      "96.50% above fitness 0.3\n",
      "96.50% above fitness 0.4\n",
      "94.40% above fitness 0.5\n",
      "87.20% above fitness 0.6\n",
      "72.40% above fitness 0.7\n",
      "51.20% above fitness 0.8\n",
      "31.60% above fitness 0.9\n",
      "9.30% above fitness 1.0\n",
      "\n",
      "Player 2 Fitness Thresholds:\n",
      "100.00% above fitness 0.0\n",
      "10.40% above fitness 0.1\n",
      "10.40% above fitness 0.2\n",
      "10.40% above fitness 0.3\n",
      "10.40% above fitness 0.4\n",
      "10.40% above fitness 0.5\n",
      "0.00% above fitness 0.6\n",
      "0.00% above fitness 0.7\n",
      "0.00% above fitness 0.8\n",
      "0.00% above fitness 0.9\n",
      "0.00% above fitness 1.0\n"
     ]
    }
   ],
   "source": [
    "run_test(num_games=100)"
   ]
  },
  {
   "cell_type": "markdown",
   "id": "parental-produce",
   "metadata": {},
   "source": [
    "Identical format as last results- both populations had a higher number of worse players and a lower number of better players.\n",
    "* Majority of P1 (51.2%) were at 0.8. 9.3% were perfect players.\n",
    "* 10.4% of P2 were at 0.5. None were higher."
   ]
  },
  {
   "cell_type": "markdown",
   "id": "major-rochester",
   "metadata": {},
   "source": [
    "## Conclusion"
   ]
  },
  {
   "cell_type": "markdown",
   "id": "overhead-vitamin",
   "metadata": {},
   "source": [
    "Decreasing the number of games from 10 to 5 is not a good idea. Players need to be abe "
   ]
  }
 ],
 "metadata": {
  "kernelspec": {
   "display_name": "Python 3",
   "language": "python",
   "name": "python3"
  },
  "language_info": {
   "codemirror_mode": {
    "name": "ipython",
    "version": 3
   },
   "file_extension": ".py",
   "mimetype": "text/x-python",
   "name": "python",
   "nbconvert_exporter": "python",
   "pygments_lexer": "ipython3",
   "version": "3.9.3"
  }
 },
 "nbformat": 4,
 "nbformat_minor": 5
}
