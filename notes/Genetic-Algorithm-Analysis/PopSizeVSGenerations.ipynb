{
 "cells": [
  {
   "cell_type": "markdown",
   "id": "forbidden-application",
   "metadata": {},
   "source": [
    "# Population Size versus Number of Generations"
   ]
  },
  {
   "cell_type": "markdown",
   "id": "conservative-baghdad",
   "metadata": {},
   "source": [
    "Investigating the effects of decreasing the population sizes and increasing the number of generations (and vice versa)."
   ]
  },
  {
   "cell_type": "markdown",
   "id": "accurate-pricing",
   "metadata": {},
   "source": [
    "## Hypothesis\n",
    "\n",
    "We know that increasing the number of generations is likely to increase the fitness of our populations.\n",
    "We also know that, if a population is too small, it will have difficulties maintaining itself.\n",
    "\n",
    "So, let us hypothesize that we will get better players by increasing the iteration count and decreasing the population size than if we did the reverse.\n",
    "\n",
    "## What we will be testing\n",
    "\n",
    "Game: We will run our tests using Competitive Graph Coloring and our 14-node graph from a previous Notebook.\n",
    "\n",
    "Parameters:\n",
    "* Our fitness threshold will start at 0.5 and will not increase for the duration of our tests\n",
    "* The number of games each player plays per generation will remain at 10.\n",
    "* Mutation rate will remain at 0.025 for all tests.\n",
    "* Our control group will be a population size of 100 on 10 iterations.\n",
    "* Our bounds will be fixed at 3. We know this graph has a known game chromatic color of 4, and that it is *possible* to win with 3 colors.\n",
    "\n",
    "So, the *only* parameters we are testing are population size and number of iterations."
   ]
  },
  {
   "cell_type": "markdown",
   "id": "honey-stomach",
   "metadata": {},
   "source": [
    "## Setup"
   ]
  },
  {
   "cell_type": "markdown",
   "id": "moral-partition",
   "metadata": {},
   "source": [
    "We need to import the necessary files and create a graph and ruleset."
   ]
  },
  {
   "cell_type": "code",
   "execution_count": 1,
   "id": "orange-employer",
   "metadata": {},
   "outputs": [],
   "source": [
    "import sys\n",
    "sys.path.append(\"../../simple_games\")\n",
    "\n",
    "from classes.genetic_algorithm import GeneticAlgorithm\n",
    "\n",
    "# Import the rulesets and strategy\n",
    "from graph_coloring.classes.gc_ruleset import GCRuleset\n",
    "from graph_coloring.classes.gc_random_init_strategy import GCRandomInitStrategy"
   ]
  },
  {
   "cell_type": "code",
   "execution_count": 2,
   "id": "boolean-selection",
   "metadata": {},
   "outputs": [],
   "source": [
    "# Create a graph to play on\n",
    "initial_state = [\n",
    "    {\"color\": 0, \"adj\": [5]},\n",
    "    {\"color\": 0, \"adj\": [6]},\n",
    "    {\"color\": 0, \"adj\": [7]},\n",
    "    {\"color\": 0, \"adj\": [8]},\n",
    "    {\"color\": 0, \"adj\": [5]},\n",
    "    {\"color\": 0, \"adj\": [0,4,6,10]},\n",
    "    {\"color\": 0, \"adj\": [1,5,7,11]},\n",
    "    {\"color\": 0, \"adj\": [2,6,8,12]},\n",
    "    {\"color\": 0, \"adj\": [3,7,9,13]},\n",
    "    {\"color\": 0, \"adj\": [8]},\n",
    "    {\"color\": 0, \"adj\": [5]},\n",
    "    {\"color\": 0, \"adj\": [6]},\n",
    "    {\"color\": 0, \"adj\": [7]},\n",
    "    {\"color\": 0, \"adj\": [8]},\n",
    "]"
   ]
  },
  {
   "cell_type": "code",
   "execution_count": 3,
   "id": "shaped-replica",
   "metadata": {},
   "outputs": [],
   "source": [
    "# Ruleset of the game being played on\n",
    "ruleset = GCRuleset(\"Graph Coloring Ruleset\", initial_state, bounds = 3)"
   ]
  },
  {
   "cell_type": "markdown",
   "id": "weekly-negative",
   "metadata": {},
   "source": [
    "Let's also define some functions to allow us run a test and see information about the player populations."
   ]
  },
  {
   "cell_type": "code",
   "execution_count": 10,
   "id": "prostate-liabilities",
   "metadata": {},
   "outputs": [],
   "source": [
    "def print_pop(pop, fitness = 0.5):\n",
    "    \"\"\"\n",
    "    Displays individuals in the population whose fitness is at or above the provided threshold.\n",
    "    \n",
    "    Args:\n",
    "        pop : Population to display\n",
    "        fitness (Optional) : Minimum fitness threshold\n",
    "    \"\"\"\n",
    "    for p in pop:\n",
    "        if p.fitness() >= fitness:\n",
    "            print(p)\n",
    "\n",
    "            \n",
    "            \n",
    "def percent_good_players(pop, fitness = 0.5):\n",
    "    \"\"\"\n",
    "    Prints the percentage of a population that is above a specified fitness.\n",
    "    \n",
    "    Args:\n",
    "        pop : Population to analyze\n",
    "        fitness (Optional) : Minimum fitness threshold\n",
    "    \"\"\"\n",
    "    good_pop = [p for p in pop if p.fitness() >= fitness]\n",
    "    percent = len(good_pop) / len(pop)\n",
    "    print(\"{:.2f}% above fitness {}\".format(percent * 100, fitness))\n",
    "    \n",
    "    \n",
    "    \n",
    "def fitness_thresholds(p1_pop, p2_pop):\n",
    "    \"\"\"\n",
    "    Displays the fitness thresholds for each population.\n",
    "    \n",
    "    Args:\n",
    "        p1_pop : Player 1 population\n",
    "        p2_pop : Player 2 population\n",
    "    \"\"\"\n",
    "    print(\"Player 1 Fitness Thresholds:\")\n",
    "    for i in range(0, 11, 1):\n",
    "        percent_good_players(p1_pop, fitness=i/10)\n",
    "\n",
    "    print(\"\\nPlayer 2 Fitness Thresholds:\")\n",
    "    for i in range(0, 11, 1):\n",
    "        percent_good_players(p2_pop, fitness=i/10)\n",
    "\n",
    "        \n",
    "        \n",
    "def run_test(pop_size, iterations):\n",
    "    \"\"\"\n",
    "    Runs a series of genetic algorithms, averaging the results.\n",
    "    \n",
    "    Args:\n",
    "        pop_size : Population size to test\n",
    "        iterations : Number of iterations to test\n",
    "    \"\"\"\n",
    "    total_p1_pop = []\n",
    "    total_p2_pop = []\n",
    "    \n",
    "    # Run 10 tests\n",
    "    for i in range(10):\n",
    "        # Create a new Evolution instance with the example strategy\n",
    "        test_group = GeneticAlgorithm(\n",
    "            ruleset,\n",
    "            # Random-on-initialization strategy for generating populations of random players\n",
    "            random_on_init_strat = GCRandomInitStrategy,\n",
    "            # Data to be used by the above strategy\n",
    "            strat_data = {\"vertices\": range(len(ruleset.initial_state)), \"colors\": range(1, ruleset.bounds + 1)},\n",
    "            # Size of the populations\n",
    "            pop_size = pop_size,\n",
    "            # Number of generations to iterate through\n",
    "            iterations = iterations,\n",
    "            # Minimum number of games each player must play during a generation\n",
    "            num_games = 10,\n",
    "            # Starting fitness threshold\n",
    "            fitness = 0.5,\n",
    "            # Maximum fitness threshold; be careful of setting this too close to 1.0\n",
    "            max_fitness = 0.5,\n",
    "            # How much the fitness threshold should increment after each iteration\n",
    "            fitness_increment = 0.0,\n",
    "            # Chance of a mutation to occur during player reproduction\n",
    "            mutation_rate = 0.025\n",
    "        )\n",
    "    \n",
    "        # Run the algorithm\n",
    "        p1_pop, p2_pop = test_group.evolve()\n",
    "        \n",
    "        # Append to populations\n",
    "        total_p1_pop.extend(p1_pop)\n",
    "        total_p2_pop.extend(p2_pop)\n",
    "    \n",
    "    fitness_thresholds(total_p1_pop, total_p2_pop)"
   ]
  },
  {
   "cell_type": "markdown",
   "id": "crucial-compilation",
   "metadata": {},
   "source": [
    "## Control Group"
   ]
  },
  {
   "cell_type": "markdown",
   "id": "opened-distributor",
   "metadata": {},
   "source": [
    "Our control group will be a population size of 100 with 10 iterations. As stated earlier, fitness and number of games will remain fixed."
   ]
  },
  {
   "cell_type": "code",
   "execution_count": 5,
   "id": "suited-fiber",
   "metadata": {},
   "outputs": [
    {
     "name": "stdout",
     "output_type": "stream",
     "text": [
      "Player 1 Fitness Thresholds:\n",
      "100.00% above fitness 0.0\n",
      "95.20% above fitness 0.1\n",
      "95.20% above fitness 0.2\n",
      "95.20% above fitness 0.3\n",
      "95.20% above fitness 0.4\n",
      "93.50% above fitness 0.5\n",
      "83.40% above fitness 0.6\n",
      "70.10% above fitness 0.7\n",
      "56.60% above fitness 0.8\n",
      "42.30% above fitness 0.9\n",
      "24.00% above fitness 1.0\n",
      "\n",
      "Player 2 Fitness Thresholds:\n",
      "100.00% above fitness 0.0\n",
      "6.60% above fitness 0.1\n",
      "6.60% above fitness 0.2\n",
      "6.60% above fitness 0.3\n",
      "6.60% above fitness 0.4\n",
      "6.60% above fitness 0.5\n",
      "1.10% above fitness 0.6\n",
      "0.00% above fitness 0.7\n",
      "0.00% above fitness 0.8\n",
      "0.00% above fitness 0.9\n",
      "0.00% above fitness 1.0\n"
     ]
    }
   ],
   "source": [
    "run_test(pop_size=100, iterations=10)"
   ]
  },
  {
   "cell_type": "markdown",
   "id": "alternative-start",
   "metadata": {},
   "source": [
    "The Player 1 population is doing very well. The Player 2 population is not doing nearly as well.\n",
    "* Majority of P1 (56.6%) was at or above 0.8, 24% were perfect players.\n",
    "* Only 1.1% of P2 was at or above 0.6, 6.6% were below, but all were non-zero."
   ]
  },
  {
   "cell_type": "markdown",
   "id": "hollow-latino",
   "metadata": {
    "tags": []
   },
   "source": [
    "## Test 1: Increase Iterations\n",
    "\n",
    "Here we will examine the effects of increasing the number of iterations. Let's do a simple test of doubling them to 20."
   ]
  },
  {
   "cell_type": "code",
   "execution_count": 6,
   "id": "iraqi-acceptance",
   "metadata": {
    "tags": []
   },
   "outputs": [
    {
     "name": "stdout",
     "output_type": "stream",
     "text": [
      "Player 1 Fitness Thresholds:\n",
      "100.00% above fitness 0.0\n",
      "99.40% above fitness 0.1\n",
      "99.40% above fitness 0.2\n",
      "99.40% above fitness 0.3\n",
      "99.40% above fitness 0.4\n",
      "99.30% above fitness 0.5\n",
      "93.50% above fitness 0.6\n",
      "80.10% above fitness 0.7\n",
      "64.40% above fitness 0.8\n",
      "45.70% above fitness 0.9\n",
      "20.70% above fitness 1.0\n",
      "\n",
      "Player 2 Fitness Thresholds:\n",
      "100.00% above fitness 0.0\n",
      "1.40% above fitness 0.1\n",
      "1.40% above fitness 0.2\n",
      "1.40% above fitness 0.3\n",
      "1.40% above fitness 0.4\n",
      "1.40% above fitness 0.5\n",
      "0.00% above fitness 0.6\n",
      "0.00% above fitness 0.7\n",
      "0.00% above fitness 0.8\n",
      "0.00% above fitness 0.9\n",
      "0.00% above fitness 1.0\n"
     ]
    }
   ],
   "source": [
    "run_test(pop_size=100, iterations=20)"
   ]
  },
  {
   "cell_type": "markdown",
   "id": "wanted-fairy",
   "metadata": {
    "tags": []
   },
   "source": [
    "There seems to be a slight improvement in the Player 1 population and slight decline in the Player 2 perfomance.\n",
    "* P1 had improvements across the board except at perfect win rates, which declined to 20.7%\n",
    "* All P2 was nonzero, but only 1.4% was at or above 0.5."
   ]
  },
  {
   "cell_type": "markdown",
   "id": "polar-crazy",
   "metadata": {
    "tags": []
   },
   "source": [
    "## Test 2: Further Increasing Iterations \n",
    "\n",
    "Let's increase the iterations to an arbitrarily high number, like 50."
   ]
  },
  {
   "cell_type": "code",
   "execution_count": 7,
   "id": "lucky-crisis",
   "metadata": {
    "tags": []
   },
   "outputs": [
    {
     "name": "stdout",
     "output_type": "stream",
     "text": [
      "Player 1 Fitness Thresholds:\n",
      "100.00% above fitness 0.0\n",
      "100.00% above fitness 0.1\n",
      "100.00% above fitness 0.2\n",
      "100.00% above fitness 0.3\n",
      "100.00% above fitness 0.4\n",
      "100.00% above fitness 0.5\n",
      "96.20% above fitness 0.6\n",
      "82.10% above fitness 0.7\n",
      "63.30% above fitness 0.8\n",
      "48.70% above fitness 0.9\n",
      "12.60% above fitness 1.0\n",
      "\n",
      "Player 2 Fitness Thresholds:\n",
      "100.00% above fitness 0.0\n",
      "3.50% above fitness 0.1\n",
      "3.50% above fitness 0.2\n",
      "3.50% above fitness 0.3\n",
      "3.50% above fitness 0.4\n",
      "3.50% above fitness 0.5\n",
      "0.50% above fitness 0.6\n",
      "0.10% above fitness 0.7\n",
      "0.00% above fitness 0.8\n",
      "0.00% above fitness 0.9\n",
      "0.00% above fitness 1.0\n"
     ]
    }
   ],
   "source": [
    "run_test(pop_size=100, iterations=50)"
   ]
  },
  {
   "cell_type": "markdown",
   "id": "hazardous-rough",
   "metadata": {
    "tags": []
   },
   "source": [
    "A near total increase in performace from both Player 1 and Player 2 populations.\n",
    "* All Player 1s had a fitness at or above 0.5, with nearly half (48.7%) at 0.9 and 12.6% being perfect players.\n",
    "* All P2 were non-zero, 3.5% were above 0.5, and only 0.1% were above 0.7."
   ]
  },
  {
   "cell_type": "markdown",
   "id": "original-pocket",
   "metadata": {},
   "source": [
    "## Test 3: Increasing Population Size\n",
    "\n",
    "Now we will turn our attention to changing the population sizes. Let's begin by doubling the population size from 100 to 200."
   ]
  },
  {
   "cell_type": "code",
   "execution_count": 8,
   "id": "roman-survey",
   "metadata": {},
   "outputs": [
    {
     "name": "stdout",
     "output_type": "stream",
     "text": [
      "Player 1 Fitness Thresholds:\n",
      "100.00% above fitness 0.0\n",
      "93.50% above fitness 0.1\n",
      "93.50% above fitness 0.2\n",
      "93.50% above fitness 0.3\n",
      "93.35% above fitness 0.4\n",
      "91.25% above fitness 0.5\n",
      "75.80% above fitness 0.6\n",
      "59.05% above fitness 0.7\n",
      "45.65% above fitness 0.8\n",
      "35.45% above fitness 0.9\n",
      "22.95% above fitness 1.0\n",
      "\n",
      "Player 2 Fitness Thresholds:\n",
      "100.00% above fitness 0.0\n",
      "7.40% above fitness 0.1\n",
      "7.40% above fitness 0.2\n",
      "7.40% above fitness 0.3\n",
      "7.40% above fitness 0.4\n",
      "7.40% above fitness 0.5\n",
      "0.80% above fitness 0.6\n",
      "0.05% above fitness 0.7\n",
      "0.00% above fitness 0.8\n",
      "0.00% above fitness 0.9\n",
      "0.00% above fitness 1.0\n"
     ]
    }
   ],
   "source": [
    "run_test(pop_size=200, iterations=10)"
   ]
  },
  {
   "cell_type": "markdown",
   "id": "altered-court",
   "metadata": {},
   "source": [
    "The results are almost identical to the control group. The Player 1 population performed slightly worse and the Player 2 population performed slightly better.\n",
    "* Majority of P1 (59.85%) was at or above 0.7. 22.95% were perfect players.\n",
    "* 7.4% of P2 was at or above 0.5, and 0.05% were above 0.7."
   ]
  },
  {
   "cell_type": "markdown",
   "id": "expected-translator",
   "metadata": {},
   "source": [
    "## Test 4: Further Increasing Population Size\n",
    "\n",
    "Now we will increase our player size by an order of magnitude- from 100 to 1,000."
   ]
  },
  {
   "cell_type": "code",
   "execution_count": 9,
   "id": "stylish-matrix",
   "metadata": {},
   "outputs": [
    {
     "name": "stdout",
     "output_type": "stream",
     "text": [
      "Player 1 Fitness Thresholds:\n",
      "100.00% above fitness 0.0\n",
      "94.39% above fitness 0.1\n",
      "94.39% above fitness 0.2\n",
      "94.39% above fitness 0.3\n",
      "94.27% above fitness 0.4\n",
      "92.45% above fitness 0.5\n",
      "71.61% above fitness 0.6\n",
      "50.77% above fitness 0.7\n",
      "37.50% above fitness 0.8\n",
      "29.67% above fitness 0.9\n",
      "18.66% above fitness 1.0\n",
      "\n",
      "Player 2 Fitness Thresholds:\n",
      "100.00% above fitness 0.0\n",
      "4.75% above fitness 0.1\n",
      "4.75% above fitness 0.2\n",
      "4.75% above fitness 0.3\n",
      "4.75% above fitness 0.4\n",
      "4.75% above fitness 0.5\n",
      "0.36% above fitness 0.6\n",
      "0.04% above fitness 0.7\n",
      "0.00% above fitness 0.8\n",
      "0.00% above fitness 0.9\n",
      "0.00% above fitness 1.0\n"
     ]
    }
   ],
   "source": [
    "run_test(pop_size=1000, iterations=10)"
   ]
  },
  {
   "cell_type": "markdown",
   "id": "stuffed-strap",
   "metadata": {},
   "source": [
    "These results are almost identical to the previous test's except that the P1 population has fewer players above 0.6.\n",
    "* Majority of P1 (50.77%) was at or above 0.7, and 18.66% were perfect players. From 0.0 to 0.5 there were about 1% more than in Test 3.\n",
    "* All P2 were non-zero. 4.75% were above 0.5, 0.04% were above 0.7."
   ]
  },
  {
   "cell_type": "markdown",
   "id": "regular-invitation",
   "metadata": {},
   "source": [
    "## Conclusion"
   ]
  },
  {
   "cell_type": "markdown",
   "id": "reverse-representation",
   "metadata": {},
   "source": [
    "As the number of iterations increased:\n",
    "* Player 1's tended to gain fitness overall.\n",
    "* Fewer Player 1's were perfect (1.0 fitness) players.\n",
    "* Player 2's tended to lose fitness overall.\n",
    "* Slightly more Player 2's had higher fitnesses.\n",
    "\n",
    "As the population size increased:\n",
    "* A general decline in the fitness for Player 1\n",
    "* The Player 2 population tends to remain about the same. No significant consistent change occurs."
   ]
  }
 ],
 "metadata": {
  "kernelspec": {
   "display_name": "Python 3",
   "language": "python",
   "name": "python3"
  },
  "language_info": {
   "codemirror_mode": {
    "name": "ipython",
    "version": 3
   },
   "file_extension": ".py",
   "mimetype": "text/x-python",
   "name": "python",
   "nbconvert_exporter": "python",
   "pygments_lexer": "ipython3",
   "version": "3.9.2"
  }
 },
 "nbformat": 4,
 "nbformat_minor": 5
}
