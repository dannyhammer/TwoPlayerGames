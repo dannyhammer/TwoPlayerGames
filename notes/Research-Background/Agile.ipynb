{
 "cells": [
  {
   "cell_type": "markdown",
   "metadata": {},
   "source": [
    "# Agile Methodology Notes"
   ]
  },
  {
   "cell_type": "markdown",
   "metadata": {},
   "source": [
    "## Key Takeaways"
   ]
  },
  {
   "cell_type": "markdown",
   "metadata": {},
   "source": [
    "https://agiledeveloper.com/presentations/AgileMethodologies.pdf"
   ]
  },
  {
   "cell_type": "markdown",
   "metadata": {},
   "source": [
    "- We are fallible creatures and thus delivery fallible project description documents and being agile in the development process allows for the developers to interact with the \"customer\" more often. \n",
    "\n",
    "- Frequent meetings allow for mistakes to be corrected faster than at the end of a 6 month \"waterfall\" development cycle\n",
    "\n",
    "- Develop great methods to track issues, project goals, and overall communication in a project. "
   ]
  },
  {
   "cell_type": "code",
   "execution_count": null,
   "metadata": {},
   "outputs": [],
   "source": []
  },
  {
   "cell_type": "markdown",
   "metadata": {},
   "source": [
    "https://www.agile-scrum.be/blog/tips-tricks-daily-scrum/"
   ]
  },
  {
   "cell_type": "markdown",
   "metadata": {},
   "source": [
    "This article gives 8 tips for having a better SCRUM meeting (SCRUM as Dr. Scott said is a type of AGILE development). A few points that I found the most interesting were:\n",
    "\n",
    "- Asking how confident members felt about getting a task done \n",
    "- Sticking to the time of the meeting so that others are accountable to show up on time\n",
    "- Saying Thanks -- help boost morale on the project and build a sense of community\n",
    "\n",
    "While these points don't necessarily apply directly to us, I feel incorporating them might help keep everyone on equal footing in a project and allows for adjusting as needed."
   ]
  },
  {
   "cell_type": "code",
   "execution_count": null,
   "metadata": {},
   "outputs": [],
   "source": []
  },
  {
   "cell_type": "markdown",
   "metadata": {},
   "source": [
    "https://www.atlassian.com/software-development"
   ]
  },
  {
   "cell_type": "markdown",
   "metadata": {},
   "source": [
    "This is another link I found from atlassian, they are the company who hosts Trello and a few other tools for software devs/ teams.\n",
    "\n",
    "This was a good overview of software development that might be interesting but not really a *must read*."
   ]
  },
  {
   "cell_type": "code",
   "execution_count": null,
   "metadata": {},
   "outputs": [],
   "source": []
  }
 ],
 "metadata": {
  "kernelspec": {
   "display_name": "Python 3",
   "language": "python",
   "name": "python3"
  },
  "language_info": {
   "codemirror_mode": {
    "name": "ipython",
    "version": 3
   },
   "file_extension": ".py",
   "mimetype": "text/x-python",
   "name": "python",
   "nbconvert_exporter": "python",
   "pygments_lexer": "ipython3",
   "version": "3.8.5"
  }
 },
 "nbformat": 4,
 "nbformat_minor": 4
}
