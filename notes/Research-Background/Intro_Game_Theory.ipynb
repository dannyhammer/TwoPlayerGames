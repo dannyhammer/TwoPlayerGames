{
 "cells": [
  {
   "cell_type": "markdown",
   "metadata": {},
   "source": [
    "# Two-Player Games"
   ]
  },
  {
   "cell_type": "markdown",
   "metadata": {},
   "source": [
    "## Introduction"
   ]
  },
  {
   "cell_type": "markdown",
   "metadata": {},
   "source": [
    "The first kind of two-player games we will consider work like this:\n",
    "1. There are two players\n",
    "2. The players alternate turns\n",
    "3. Both players have the same set of legal moves\n",
    "4. A player loses if they can not make a move"
   ]
  },
  {
   "cell_type": "markdown",
   "metadata": {},
   "source": [
    "Chess violates Rule 3: I can not move your pieces, so I don't have the same moves as you.\n"
   ]
  },
  {
   "cell_type": "markdown",
   "metadata": {},
   "source": [
    "Two-player graph coloring violates Rule 4. If the second player has no legal moves available, they still win (as long as the graph is not colored).\n"
   ]
  },
  {
   "cell_type": "markdown",
   "metadata": {},
   "source": [
    "Nevertheless, this class of games makes a good starting point for our analysis. \n"
   ]
  },
  {
   "cell_type": "markdown",
   "metadata": {},
   "source": [
    "## A First Example\n"
   ]
  },
  {
   "cell_type": "markdown",
   "metadata": {},
   "source": [
    "### 10-1-2 Toothpick Takeaway\n"
   ]
  },
  {
   "cell_type": "markdown",
   "metadata": {},
   "source": [
    "1. There are 10 toothpicks on a table. \n",
    "2. The two players alternate taking toothpicks off the table. \n",
    "3. At each turn, the player may take either 1 or 2 toothpicks.\n",
    "4. If a player can not make a legal move, that player loses. This includes the situation where the table is left empty by the previous player's move.\n"
   ]
  },
  {
   "cell_type": "markdown",
   "metadata": {},
   "source": [
    "It's worth playing this game a few times to see how it works. Can you come up with a strategy that is guaranteed to win for Player #1? What about for Player #2?\n"
   ]
  },
  {
   "cell_type": "markdown",
   "metadata": {},
   "source": [
    "### It's Too Early for These Mathematical Definitions\n"
   ]
  },
  {
   "cell_type": "markdown",
   "metadata": {},
   "source": [
    "**Definition:** A *game* consists of the following:\n",
    "1. A set $P$ of players.\n",
    "2. A board $S$, which consists of all states of the game.\n",
    "3. A set $M$ of moves.\n",
    "4. A *legality function* whose domain is S x M: it takes the current state of the  and whose outputs are \"legal\" or \"illegal\" (or \"yes\" and \"no\", etc.)\n",
    "5. A *winning function* that determines whether or not the current player has won.\n",
    "6. An *update function* that takes three inputs:\n",
    "            The Player whose turn it is\n",
    "            The state of the game\n",
    "            The player's move\n",
    "        and returns:\n",
    "            The Player whose turn it is\n",
    "            The new state of the game"
   ]
  },
  {
   "cell_type": "markdown",
   "metadata": {},
   "source": [
    "## Back to Reality"
   ]
  },
  {
   "cell_type": "markdown",
   "metadata": {},
   "source": [
    "For 10-1-2 Toothpick Takeaway, we have the following:\n",
    "1. There are two players. It doesn't really matter what we call them, so let's call them $p_1$ and $p_2$.\n",
    "2. $S = \\{0, 1, 2, \\ldots, 10\\}$. The states correspond to the number of toothpicks on the board.\n",
    "\n",
    "3. $M = \\{1, 2\\}$. The moves correspond to 1 or 2 toothpicks taken away.\n",
    "\n",
    "4. The legality function $L$ is given by $L(s,m) = true$ if and only if $m \\leq s$. In words, this says that you can't take more toothpicks than are on the board. If you want, you can think of this as a function \"is_legal\" that outputs \"True\" or \"False\".\n",
    "\n",
    "5. The winning function is given by $U(s) = true$ if and only if $s = 0$. If you want, you can think of this as a function \"is_winning\" that returns True or False.\n",
    "\n",
    "6. The update function $U$ is given by $U(p_1, s, m) = (p_2, s-m)$ and $U(p_2, s, m) = (p_1, s-m)$.\n"
   ]
  },
  {
   "cell_type": "markdown",
   "metadata": {},
   "source": [
    "### Woah. (A Challenge)"
   ]
  },
  {
   "cell_type": "markdown",
   "metadata": {},
   "source": [
    "Our tendency when reading mathematics is to be impatient and let our eyes skip over the symbols, waiting for practical examples. \n",
    "This is a tendency that we only learn to overcome through practice. Try reading through the preceding section again. \n"
   ]
  },
  {
   "cell_type": "markdown",
   "metadata": {},
   "source": [
    "### Why All This Generality?"
   ]
  },
  {
   "cell_type": "markdown",
   "metadata": {},
   "source": [
    "The formal approach to even very simple games has two advantages:\n",
    "* It allows us to see structural similarities between games that seem dissimilar, and\n",
    "* It lets us write a general-purpose program to play a game, to wit:\n"
   ]
  },
  {
   "cell_type": "code",
   "execution_count": 2,
   "metadata": {},
   "outputs": [],
   "source": [
    "def play_game(player_set, move_set, state_set, is_legal, is_winning, update_function):\n",
    "    \"\"\"\n",
    "    returns winning_player -- the player who has won the game\n",
    "    \"\"\"\n",
    "    game_over = False\n",
    "    current_player = player_set[0] #Assume the first player goes first. \n",
    "\n",
    "    while(not(game_over)):\n",
    "        player_move = current_player.move(state) #ask for the player's move; this can be automated or human-in-the-loop\n",
    "        if is_legal(player_move): #check to see if the move is legal\n",
    "            next_player, new_state = update_function(player, move, state)\n",
    "            if is_winning(new_state): #check to see if the player won\n",
    "                winning_player = current_player\n",
    "                return winning_player\n",
    "            else: #if no one won, update turn and board\n",
    "                current_player = next_player\n",
    "                state = new_state "
   ]
  },
  {
   "cell_type": "markdown",
   "metadata": {},
   "source": [
    "Notice that there is no need for an \"else\" on the \"is_legal\" check. Nothing is updated on an illegal move; we just re-enter the while loop with the same information.\n"
   ]
  },
  {
   "cell_type": "markdown",
   "metadata": {},
   "source": [
    "### The Players"
   ]
  },
  {
   "cell_type": "markdown",
   "metadata": {},
   "source": [
    "Our preceding code was Functional . If one wishes to take an Object-Oriented approach, it could easily be modified by specifying which aspects of the game information belong to which Object.\n"
   ]
  },
  {
   "cell_type": "markdown",
   "metadata": {},
   "source": [
    "For instance, we could create a *Board* class that held the state of the game. We could make the player's move set be embedded in the *Player* class, but we're going to let it be held by the Board. There could be a *Referee* class that took responsibility for checking legality of moves and declaring a winner. \n"
   ]
  },
  {
   "cell_type": "markdown",
   "metadata": {},
   "source": [
    "> * Exercise: Rewrite the play_game function so that it takes as input a set (list) of Players, a Referee, and a Board. \n"
   ]
  },
  {
   "cell_type": "markdown",
   "metadata": {},
   "source": [
    "### Building Classes"
   ]
  },
  {
   "cell_type": "markdown",
   "metadata": {},
   "source": [
    "Let's begin with a generic Player class. This class just has one thing -- a function *move* that takes a board and returns a legal move. \n"
   ]
  },
  {
   "cell_type": "code",
   "execution_count": 3,
   "metadata": {},
   "outputs": [],
   "source": [
    "class Player:\n",
    "    def move(self, board.state):\n",
    "        pass"
   ]
  },
  {
   "cell_type": "markdown",
   "metadata": {},
   "source": [
    "This class is obviously meant to be extended rather than used. We're going to put a lot of trust in the player, that they know what game they're playing\n"
   ]
  },
  {
   "cell_type": "markdown",
   "metadata": {},
   "source": [
    "There are two players we can make, regardless of the game.\n"
   ]
  },
  {
   "cell_type": "code",
   "execution_count": 4,
   "metadata": {},
   "outputs": [],
   "source": [
    "class HumanPlayer:\n",
    "    def move(board):\n",
    "        your_move = input(\"Please select your move\") # may need typecasting\n",
    "        return your_move\n",
    "\n",
    "class RandomPlayer:\n",
    "    def play(board):\n",
    "        return random_element(board.move_set) # random_element not actually a command"
   ]
  },
  {
   "cell_type": "markdown",
   "metadata": {},
   "source": [
    "We may need to introduce new internal state variables to allow the Player to have memory of previous moves. An example is SequentialPlayer, who goes down the move_set one at a time:\n"
   ]
  },
  {
   "cell_type": "code",
   "execution_count": 5,
   "metadata": {},
   "outputs": [],
   "source": [
    "class Sequential_Player:\n",
    "    move_set\n",
    "    move_number = 0\n",
    "    def move(board):\n",
    "        our_move = board.move_set[move_number]\n",
    "        move_number = (move_number + 1) % length(move_set) # mod in python (code) is percent sign\n",
    "        return our_move"
   ]
  },
  {
   "cell_type": "markdown",
   "metadata": {},
   "source": [
    "Of course, in general, there are many possibilities, and the move function may become quite complicated, using other functions to help it get the job done, etc.\n"
   ]
  },
  {
   "cell_type": "markdown",
   "metadata": {},
   "source": [
    "The game is completely understood when we can write a move function that wins 100% of the time, or can explain why it is not possible to write such a function.\n"
   ]
  },
  {
   "cell_type": "markdown",
   "metadata": {},
   "source": [
    "### Exercises"
   ]
  },
  {
   "cell_type": "markdown",
   "metadata": {},
   "source": [
    "1. Play 10-1-2 Toothpick Takeaway several times. Work together to come up with an optimal strategy.\n",
    "\n",
    "2. Write a generic Board class that has three things: move_set, state_set, and update function. \n",
    "\n",
    "3. Write a TakeawayBoard class that has the states and moves for 10-1-2 toothpick takeaway.\n",
    "\n",
    "4. Write a generic Referee class with is_legal and is_winning functions. \n",
    "\n",
    "5. Write a new TakeawayReferee class, extending the previous class, for 10-1-2 Toothpick Takeaway.\n",
    "\n",
    "6. Write an AlwaysTakeOnePlayer class that always takes one toothpick. Have two AlwaysTakeOnePlayer players play each other. \n",
    "* Who wins? \n",
    "\n",
    "7. Write an AlwaysTakeTwoPlayer class. \n",
    "* What will happen if this player plays an \"AlwaysTakeOnePlayer\"? \n",
    "* Do we need to modify our Referee class to protect against this?"
   ]
  }
 ],
 "metadata": {
  "kernelspec": {
   "display_name": "Python 3",
   "language": "python",
   "name": "python3"
  },
  "language_info": {
   "codemirror_mode": {
    "name": "ipython",
    "version": 3
   },
   "file_extension": ".py",
   "mimetype": "text/x-python",
   "name": "python",
   "nbconvert_exporter": "python",
   "pygments_lexer": "ipython3",
   "version": "3.8.5"
  }
 },
 "nbformat": 4,
 "nbformat_minor": 4
}
