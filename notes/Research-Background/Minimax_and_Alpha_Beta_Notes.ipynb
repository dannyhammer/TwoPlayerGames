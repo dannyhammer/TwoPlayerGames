{
 "cells": [
  {
   "cell_type": "markdown",
   "metadata": {},
   "source": [
    "---------\n",
    "# Minimax and Alpha-Beta Pruning\n",
    "---------"
   ]
  },
  {
   "cell_type": "markdown",
   "metadata": {},
   "source": [
    "# Table of Contents\n",
    "1. [General Idea](#The-General-Idea)\n",
    "2. [Example Run](#Example-Run)\n",
    "3. [Pruning the Tree](#Pruning-The-Tree)\n",
    "4. [A Bigger Example](#A-Bigger-Example)\n",
    "5. [The Final Example/ Conclusion](#The-Final-Example-and-Conclusion)\n",
    "6. [Sources](#Sources)"
   ]
  },
  {
   "cell_type": "markdown",
   "metadata": {},
   "source": [
    "----------------\n",
    "## The General Idea\n",
    "-----------------"
   ]
  },
  {
   "cell_type": "markdown",
   "metadata": {},
   "source": [
    "In a two player game, the process for which the players decide *which* moves to make by using an algorithm that allows the player to look ahead on the moves before making the current move. This allows for player one A to be the maximizing player (favoring a score 0 > x > 1) and player two B to be the minimizing player (favoring a score -1 < x < 0). "
   ]
  },
  {
   "cell_type": "code",
   "execution_count": 5,
   "metadata": {},
   "outputs": [
    {
     "ename": "SyntaxError",
     "evalue": "invalid syntax (<ipython-input-5-def978a1153e>, line 12)",
     "output_type": "error",
     "traceback": [
      "\u001b[0;36m  File \u001b[0;32m\"<ipython-input-5-def978a1153e>\"\u001b[0;36m, line \u001b[0;32m12\u001b[0m\n\u001b[0;31m    return static evalutation of position\u001b[0m\n\u001b[0m                  ^\u001b[0m\n\u001b[0;31mSyntaxError\u001b[0m\u001b[0;31m:\u001b[0m invalid syntax\n"
     ]
    }
   ],
   "source": [
    "def minimax(position, depth, maxizingPlayer):\n",
    "    \"\"\"\n",
    "    Args:\n",
    "        position : the current position, with remaining paths\n",
    "        depth : how far down the tree to look\n",
    "        maximizingPlayer : the player currently trying to maximize the score\n",
    "    \n",
    "    Return:\n",
    "        the max evaluation or the evaluation of the current position\n",
    "    \"\"\"\n",
    "    if depth == 0 or game_over in position:\n",
    "        return static evalutation of position\n",
    "    \n",
    "    if maximizingPlayer:\n",
    "        maxEval = -infinity\n",
    "        for each child of position:\n",
    "            eval = minimax(child, depth - 1, False)\n",
    "            maxEval = max(maxEval, eval)\n",
    "        return maxEval\n",
    "    else:\n",
    "        minEval = +infinity\n",
    "        for each child of position:\n",
    "            eval = minimax(child, depth - 1m True)\n",
    "            minEval = min(minEval, eval)\n",
    "        return minEval"
   ]
  },
  {
   "cell_type": "markdown",
   "metadata": {},
   "source": [
    "-------------\n",
    "## Example Run\n",
    "-------------"
   ]
  },
  {
   "cell_type": "markdown",
   "metadata": {},
   "source": [
    "![Image of example run](images/first_run.png)"
   ]
  },
  {
   "cell_type": "markdown",
   "metadata": {},
   "source": [
    "The function starts with the root of the tree of possible options and then recurses down the rest of the tree until all calls have recieved the evaluation. While this approach will provide the needed information for the program to run, this is very taxing on the system. This is where pruning begins to help."
   ]
  },
  {
   "cell_type": "markdown",
   "metadata": {},
   "source": [
    "----------\n",
    "## Pruning the Tree\n",
    "------------"
   ]
  },
  {
   "cell_type": "markdown",
   "metadata": {},
   "source": [
    "![The pruned tree](images/pruning.png)"
   ]
  },
  {
   "cell_type": "markdown",
   "metadata": {},
   "source": [
    "The image above shows how pruning can be beneficial to saving computational time and resources."
   ]
  },
  {
   "cell_type": "markdown",
   "metadata": {},
   "source": [
    "To begin, the process is the same up until deciding which branch to the black player will choose. The evaluations returned give a branch with a score of 3 and a score of greater than or equal to 5 meaning the other node can be ignored. \n",
    "\n",
    "The reason being, this branch would not be less than 5 even if the other option was a higher score (helping the white player to win)."
   ]
  },
  {
   "cell_type": "markdown",
   "metadata": {},
   "source": [
    "Following this logic for the right hand side of the tree, we can see that a branch has a score of less than or equal to -4 meaning black would choose this option at best or the other branch at worst. This means that white needs to choose the branch on the left causing the total path to look like"
   ]
  },
  {
   "cell_type": "markdown",
   "metadata": {},
   "source": [
    "### W3 -> B3 -> W3"
   ]
  },
  {
   "cell_type": "markdown",
   "metadata": {},
   "source": [
    "For this example we end up with the same path, except pruning allows for us to not spend as much time/resources computing evaluations that will not affect the outcome."
   ]
  },
  {
   "cell_type": "markdown",
   "metadata": {},
   "source": [
    "--------------\n",
    "## A Bigger Example\n",
    "------------"
   ]
  },
  {
   "cell_type": "markdown",
   "metadata": {},
   "source": [
    "![Image of example run](images/big_tree.png)"
   ]
  },
  {
   "cell_type": "markdown",
   "metadata": {},
   "source": [
    "### As before, we find the evaluations of the children nodes, and on the right side we can ignore the entire right most branch since the current score is 2 or less. This menas white would choose 3 to maximize the score. Which leads to black choosing 3 and so on. The importance here is to avoid calculating moves that would not change the overall output."
   ]
  },
  {
   "cell_type": "markdown",
   "metadata": {},
   "source": [
    "----------------------\n",
    "## Updated Minimax Algorithm\n",
    "-----------------------"
   ]
  },
  {
   "cell_type": "code",
   "execution_count": 9,
   "metadata": {},
   "outputs": [
    {
     "ename": "IndentationError",
     "evalue": "unindent does not match any outer indentation level (<tokenize>, line 11)",
     "output_type": "error",
     "traceback": [
      "\u001b[0;36m  File \u001b[0;32m\"<tokenize>\"\u001b[0;36m, line \u001b[0;32m11\u001b[0m\n\u001b[0;31m    if depth == 0 or game_over in position:\u001b[0m\n\u001b[0m    ^\u001b[0m\n\u001b[0;31mIndentationError\u001b[0m\u001b[0;31m:\u001b[0m unindent does not match any outer indentation level\n"
     ]
    }
   ],
   "source": [
    "def minimax_with_pruning(position, depth, alpha, beta, maximizingPlayer):\n",
    "        \"\"\"\n",
    "    Args:\n",
    "        position : the current position, with remaining paths\n",
    "        depth : how far down the tree to look\n",
    "        alpha : the cure\n",
    "        maximizingPlayer : the player currently trying to maximize the score\n",
    "    \n",
    "    Return:\n",
    "        the max evaluation or the evaluation of the current position\n",
    "    \"\"\"\n",
    "    if depth == 0 or game_over in position:\n",
    "        return static evalutation of position\n",
    "    \n",
    "    if maximizingPlayer:\n",
    "        maxEval = -infinity\n",
    "        for each child of position:\n",
    "            eval = minimax(child, depth - 1, alpha, beta, False)\n",
    "            maxEval = max(maxEval, eval)\n",
    "            alpha = max(alpha, eval)\n",
    "            if beta <= alpha:\n",
    "                break\n",
    "        return maxEval\n",
    "    else:\n",
    "        minEval = +infinity\n",
    "        for each child of position:\n",
    "            eval = minimax(child, depth - 1, alpha, beta, True)\n",
    "            minEval = min(minEval, eval)\n",
    "            beta = max(alpha, eval)\n",
    "            if beta <= alpha:\n",
    "                break\n",
    "                \n",
    "        return minEval\n",
    "    "
   ]
  },
  {
   "cell_type": "markdown",
   "metadata": {},
   "source": [
    "## The Final Example and Conclusion"
   ]
  },
  {
   "cell_type": "markdown",
   "metadata": {},
   "source": [
    "![The pruned tree](images/alpha_beta.png)"
   ]
  },
  {
   "cell_type": "markdown",
   "metadata": {},
   "source": [
    "The alpha beta pruning starts with the alpha= negative infinity (worst alpha score) and beta = postive infinity (worst beta score)"
   ]
  },
  {
   "cell_type": "markdown",
   "metadata": {},
   "source": [
    "The algorithm then updates the alpha and beta scores based on the evaluation that was currently process. Then once all paths are checked, we are left with a trimmed down path meaning our path will be easier to find."
   ]
  },
  {
   "cell_type": "code",
   "execution_count": null,
   "metadata": {},
   "outputs": [],
   "source": []
  },
  {
   "cell_type": "markdown",
   "metadata": {},
   "source": [
    "## Sources"
   ]
  },
  {
   "cell_type": "markdown",
   "metadata": {},
   "source": [
    "Below you will find the sources pertaining to the information found in this notebook, however, as we develop more for this research more resources may be added."
   ]
  },
  {
   "cell_type": "markdown",
   "metadata": {},
   "source": [
    "### YouTube:\n",
    "- [Minimax and Alpha Beta Pruning video](https://www.youtube.com/watch?v=l-hh51ncgDI&app=desktop)"
   ]
  },
  {
   "cell_type": "code",
   "execution_count": null,
   "metadata": {},
   "outputs": [],
   "source": []
  }
 ],
 "metadata": {
  "kernelspec": {
   "display_name": "Python 3",
   "language": "python",
   "name": "python3"
  },
  "language_info": {
   "codemirror_mode": {
    "name": "ipython",
    "version": 3
   },
   "file_extension": ".py",
   "mimetype": "text/x-python",
   "name": "python",
   "nbconvert_exporter": "python",
   "pygments_lexer": "ipython3",
   "version": "3.8.2"
  }
 },
 "nbformat": 4,
 "nbformat_minor": 4
}
