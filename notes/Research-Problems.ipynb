{
 "cells": [
  {
   "cell_type": "markdown",
   "metadata": {},
   "source": [
    "# Problems/Solutions\n",
    "This notebook for documenting issues we run into during the development process and how we solve the issue.\n",
    "\n",
    "------------------------------------------\n",
    "\n",
    "### Generic csv writer v Game-specific csv writer\n",
    "#### 2/15/21\n",
    "\n",
    "\n",
    "**Problem**: Should we attempt ot create a generic csv writer that we can use for any game we test, or whould we just create a brand new csv writer for every game, and tailor it to the specifics of the game.\n",
    "\n",
    "**Process**: Talked about what challenges come from writing a generic csv writer. First challenge: How to generate all possible game states for the column names. The only way to really generate the column names would be to pull the game states from the raw game data after all of our games had finished. The issue is inherently solved when we use a game-specific csv writer as all game states are stored as a dictionary.  \n",
    "\n",
    "\n",
    "The main benefit to using a generic csv writer is that it will save time on getting the data to a format that we can easily put it into a data frame and create models for it.  However, if we are able to take the raw game data to a csv where the data will be mess but \"\"\"standardized\"\"\" using a generic csv writer. We can then take a csv from the generic writer and use a small formatting script to make the data readable to humans and also easy to put into data frames and models. This small formatting script would be unique to each game, but not as much work as creating a new csv writer for each game.\n",
    "\n",
    "**Conclusion**:  Attempt a generic csv writer that will take raw game data into a csv that is readable to human eyes so we can get basic insight on the data.  Then each game will have a formatting script to make the data organized and easy to put into different data structures."
   ]
  },
  {
   "cell_type": "markdown",
   "metadata": {},
   "source": [
    "---------------"
   ]
  },
  {
   "cell_type": "code",
   "execution_count": null,
   "metadata": {},
   "outputs": [],
   "source": []
  }
 ],
 "metadata": {
  "kernelspec": {
   "display_name": "Python 3",
   "language": "python",
   "name": "python3"
  },
  "language_info": {
   "codemirror_mode": {
    "name": "ipython",
    "version": 3
   },
   "file_extension": ".py",
   "mimetype": "text/x-python",
   "name": "python",
   "nbconvert_exporter": "python",
   "pygments_lexer": "ipython3",
   "version": "3.8.10"
  }
 },
 "nbformat": 4,
 "nbformat_minor": 4
}
